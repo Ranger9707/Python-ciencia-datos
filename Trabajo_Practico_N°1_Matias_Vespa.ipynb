{
  "nbformat": 4,
  "nbformat_minor": 0,
  "metadata": {
    "colab": {
      "provenance": [],
      "include_colab_link": true
    },
    "kernelspec": {
      "name": "python3",
      "display_name": "Python 3"
    },
    "language_info": {
      "name": "python"
    }
  },
  "cells": [
    {
      "cell_type": "markdown",
      "metadata": {
        "id": "view-in-github",
        "colab_type": "text"
      },
      "source": [
        "<a href=\"https://colab.research.google.com/github/Ranger9707/Python-ciencia-datos/blob/main/Trabajo_Practico_N%C2%B01_Matias_Vespa.ipynb\" target=\"_parent\"><img src=\"https://colab.research.google.com/assets/colab-badge.svg\" alt=\"Open In Colab\"/></a>"
      ]
    },
    {
      "cell_type": "markdown",
      "source": [
        "# **Trabajo Practico N1**\n",
        "# Introduction al Desarrollo en Python\n",
        "\n",
        "# Trabajo realizado por: Matias Vespa\n",
        "Email: matty9706@gmail.com\n",
        "\n",
        "DNI: 40325120"
      ],
      "metadata": {
        "id": "PU0V5R5rNsne"
      }
    },
    {
      "cell_type": "markdown",
      "source": [
        "**EJERCICIO 1**\n",
        "\n",
        "Determinar si un numero ingresado por el usuario es PAR"
      ],
      "metadata": {
        "id": "kwBfCKCRNyxc"
      }
    },
    {
      "cell_type": "code",
      "source": [
        "numero = int(input(\"Ingrese un numero \"))\n",
        "if(numero%2==0):\n",
        "  print(\"es PAR\")\n",
        "else:\n",
        "    print(\"es IMPAR\")"
      ],
      "metadata": {
        "id": "2hNQhIVkGzBC"
      },
      "execution_count": null,
      "outputs": []
    },
    {
      "cell_type": "markdown",
      "source": [
        "**EJERCICIO 2**\n",
        "\n",
        "Determinar si un numero ingresado por el usuario esta DENTRO DEL RANGO [1,10] y es par. MUESTRE UN MENSAJE EN CASO CONTRARIO 'NÚMERO FUERA DEL RANGO'"
      ],
      "metadata": {
        "id": "KKY6JsexOCUy"
      }
    },
    {
      "cell_type": "code",
      "source": [
        "numero = int(input(\"Ingrese un número \"))\n",
        "\n",
        "if numero%2==0 and numero > 1 and numero < 11:\n",
        "  print(\"es PAR y esta dentro del rango\")\n",
        "else:\n",
        "    print(\"El número fuera del rango\")"
      ],
      "metadata": {
        "id": "iCFiSWE2FJvh"
      },
      "execution_count": null,
      "outputs": []
    },
    {
      "cell_type": "markdown",
      "source": [
        "**EJERCICIO 3 CICLO FOR**\n",
        "\n",
        "\n",
        "Solicitar al usuario que ingrese 10 números. Calcule la suma de todos los números ingresados y  cuente cuántos de ellos son par.\n"
      ],
      "metadata": {
        "id": "cfitfYKpQK2O"
      }
    },
    {
      "cell_type": "code",
      "source": [
        "suma = 0\n",
        "pares = 0\n",
        "\n",
        "for i in range(10):\n",
        "  print(\"El unumero de iteración es:\" ,i)\n",
        "  numero= int (input(\"ingrese un número \"))\n",
        "  suma += numero\n",
        "  if numero % 2==0:\n",
        "    pares +=1\n",
        "  print(\"la suma de los numeros es: \",suma)\n",
        "  print(\"la cantidad de numeros pares es: \", pares)"
      ],
      "metadata": {
        "id": "-uSApWfcQT-b"
      },
      "execution_count": null,
      "outputs": []
    },
    {
      "cell_type": "markdown",
      "source": [
        "**EJERCICIOS 4**\n",
        "\n",
        "Mostrar todos los números presentes en el rango [56,1230]\n",
        "Solicitar al usuario que ingrese el rango [a,b] y muestre todos los números pertenecientes a él."
      ],
      "metadata": {
        "id": "7YyBaMyyRh7I"
      }
    },
    {
      "cell_type": "code",
      "source": [
        "#for x in range(56,1230):\n",
        "#    print(x)\n",
        "\n",
        "inicio = int(input(\"Ingrese el primero numero del rango: \"))\n",
        "fin = int(input(\"ingrese el segundo numero del rango: \"))\n",
        "\n",
        "for x in range(inicio, fin):\n",
        "  print(x)\n",
        "print (fin)"
      ],
      "metadata": {
        "id": "TnYG7xsFLA_S"
      },
      "execution_count": null,
      "outputs": []
    },
    {
      "cell_type": "markdown",
      "source": [
        "**EJERCICIO 5 CICLO WHILE**\n",
        "\n",
        "Solicitar al usuario que ingrese un número, si es negativo o nulo , solicitar reiteradamente hasta que ingrese un numero positivo."
      ],
      "metadata": {
        "id": "sCYdUm5DOpPk"
      }
    },
    {
      "cell_type": "code",
      "source": [
        "numero = int(input(\"Ingrese un numero positivo: \"))\n",
        "\n",
        "while numero <= 0:\n",
        "  print('Numero invalido!')\n",
        "  numero = int(input(\"Ingrese un numero positivo: \"))\n",
        "\n",
        "print(\"Numero positivo ingresado correctamente!\")"
      ],
      "metadata": {
        "id": "_jEwO59fr6Qo"
      },
      "execution_count": null,
      "outputs": []
    },
    {
      "cell_type": "markdown",
      "source": [
        "**EJERCICIO 6**\n",
        "\n",
        "Solicitar al usuario que ingrese un número, si el número es positivo , solicitar reiteradamente hasta que ingrese un numero negativo. Luego mostrar dicho número si es par, en caso contrario mostrar un mensaje 'número ingresado impar'."
      ],
      "metadata": {
        "id": "Snkm3EDCSb6n"
      }
    },
    {
      "cell_type": "code",
      "source": [
        "numero = int(input(\"Ingrese un numero negativo: \"))\n",
        "\n",
        "while numero >= 0:\n",
        "  print('Numero invalido!')\n",
        "  numero = int(input(\"Ingrese un numero negativo: \"))\n",
        "\n",
        "print(\"Numero negativo ingresado correctamente!\")\n",
        "\n",
        "if numero % 2 == 0:\n",
        "    print(\"El número ingresado es par.\")\n",
        "else:\n",
        "    print(\"El número ingresado es impar.\")"
      ],
      "metadata": {
        "id": "DFMcpmGUt6bh"
      },
      "execution_count": null,
      "outputs": []
    },
    {
      "cell_type": "markdown",
      "source": [
        "**EJERCICIO 7 VECTORES CON CICLO FOR**\n",
        "\n",
        "Solicitar al usuario que ingrese la cantidad de elementos del vector.\n",
        "Ingresar cada elemento del vector y calcular su promedio.AYUDA: EL PROMEDIO ES LA SUMA DE TODOS LOS NÚMEROS DIVIDO LA CANTIDAD TOTAL.\n",
        "Mostrar el vector."
      ],
      "metadata": {
        "id": "sypNigFYS3iU"
      }
    },
    {
      "cell_type": "code",
      "source": [
        "cantidad = int(input(\"Ingrese la cantidad de elementos del vector: \"))\n",
        "\n",
        "vector = []\n",
        "suma = 0\n",
        "\n",
        "for i in range(cantidad):\n",
        "    elemento = int(input(\"Ingrese el elemento \" + str((i+1)) + \": \"))\n",
        "    vector.append(elemento)\n",
        "    suma += elemento\n",
        "\n",
        "promedio = suma / cantidad\n",
        "\n",
        "print(\"El vector ingresado es:\", vector)\n",
        "print(\"El promedio de los elementos es:\", promedio)"
      ],
      "metadata": {
        "id": "0_DWGzoiubrh"
      },
      "execution_count": null,
      "outputs": []
    },
    {
      "cell_type": "markdown",
      "source": [
        "**EJERCICIO 8 LISTA CON CICLO FOR**\n",
        "\n",
        "Solicitar a 10 usuario que ingresen los siguientes datos en el formato lista.\n",
        "\n",
        "['NOMBRE','APELLIDO', 'DNI','GASTOS MENSUALES DE HOGAR']\n",
        "\n",
        "Ingresar el final de la lista los siguientes usuarios:\n",
        "\n",
        "['ESTEBAN','LOPEZ', '45675400','190800.80']\n",
        "\n",
        "['NOELIA','ALEJA', '46906875','85900.50']\n",
        "\n",
        "Mostrar el vector.\n",
        "Eliminar el primer usuario de la lista."
      ],
      "metadata": {
        "id": "W15_ajQyULBo"
      }
    },
    {
      "cell_type": "code",
      "source": [
        "listapersonas=[]\n",
        "\n",
        "while(len(listapersonas)<10):\n",
        "  nombre=input(\"Ingrese su nombre: \")\n",
        "  apellido=input(\"Ingrese su apellido: \")\n",
        "  dni=input(\"Ingrese su DNI: \")\n",
        "  gastos=input(\"Ingrese sus gastos mensuales: \")\n",
        "  persona=[nombre,apellido,dni,gastos]\n",
        "  listapersonas.append(persona)\n",
        "\n",
        "  print(\"\\nAgregando usuarios\\n\")\n",
        "\n",
        "  listapersonas.append(['ESTEBAN','LOPEZ', '45675400','190800.80'])\n",
        "  listapersonas.append(['NOELIA','ALEJA', '46906875','85900.50'])\n",
        "\n",
        "  listapersonas.pop(0)\n",
        "\n",
        "  print(\"\\nMostrando la lista resultante\")\n",
        "\n",
        "print(listapersonas)"
      ],
      "metadata": {
        "id": "87QYFKNToYue"
      },
      "execution_count": null,
      "outputs": []
    },
    {
      "cell_type": "markdown",
      "source": [
        "**EJERCICIO 9 LISTA CON CICLO FOR**\n",
        "\n",
        "Buscar en la web los datos pablacionales de todas las provicias de Argentina , generando una lista con los siguiente información.\n",
        "\n",
        "['PROVINCIA','CANTIDAD DE HABITANTES', 'CONSUMO ELECTRICO PER CAPITA','SUPERFICIE EN M^2']\n",
        "\n",
        "\n",
        "\n",
        "Mostrar TODOS LOS DATOS DEL LISTADO.\n",
        "\n",
        "Fuentes:\n",
        "\n",
        "[población por provincia - Censo 2022 - Cuadro 1](https://www.indec.gob.ar/ftp/cuadros/poblacion/cnphv2022_resultados_provisionales.xlsx)\n",
        "\n",
        "[consumo energia por provincia 2022- página 10](http://www.adeera.com.ar/newsroom/archivosinformes/ADEERA%20-%20Informe%20Anual%20Demanda%202022.pdf)\n",
        "\n",
        "\n",
        "[Superficie por provincia - página 26](https://www.ign.gob.ar/descargas/geoespacial/Informe_supercies_de_Argentina.pdf)\n",
        "\n"
      ],
      "metadata": {
        "id": "5x1DqNkpTWzi"
      }
    },
    {
      "cell_type": "code",
      "source": [
        "datosArgentina = []\n",
        "BuenosAires = ['Buenos Aires: Cantidad de habitantes: 17569053, Consumo eléctrico per cápita: 5496261 MWh, Superficie en km²: 307571']\n",
        "Cordoba = ['Córdoba: Cantidad de habitantes: 3978984, Consumo eléctrico per cápita: 4460698 MWh, Superficie en km²: 165321']\n",
        "SantaFe = ['Santa Fe: Cantidad de habitantes: 3194537, Consumo eléctrico per cápita: 1761100 MWh, Superficie en km²: 133007']\n",
        "CiudadAutonoma = ['Ciudad Autónoma de Buenos Aires: Cantidad de habitantes: 2890151, Consumo eléctrico per cápita: 27057491 MWh, Superficie en km²: 203']\n",
        "Mendoza = ['Mendoza: Cantidad de habitantes: 1738929, Consumo eléctrico per cápita: 2112084 MWh, Superficie en km²: 148827']\n",
        "Tucuman = ['Tucumán: Cantidad de habitantes: 1512986, Consumo eléctrico per cápita: 1656628 MWh , Superficie en km²: 22524']\n",
        "EntreRios = ['Entre Ríos: Cantidad de habitantes: 1426426, Consumo eléctrico per cápita: 1655865 MWh , Superficie en km²: 78781']\n",
        "Salta = ['Salta: Cantidad de habitantes: 1344718, Consumo eléctrico per cápita: 113698 MWh, Superficie en km²: 155488']\n",
        "Chaco = ['Chaco: Cantidad de habitantes :1195272, Consumo eléctrico per cápita: 2174839 MWh, Superficie en km² :99633']\n",
        "SanJuan = [\"San Juan: Cantidad de habitantes: 739719, Consumo eléctrico per cápita: 1291214 MWh, Superficie en km²: 89651\"]\n",
        "Misiones = [\"Misiones: Cantidad de habitantes: 1189446, Consumo eléctrico per cápita: 1748551 MWh, Superficie en km²: 29801\"]\n",
        "LaRioja = [\"La Rioja: Cantidad de habitantes: 331847, Consumo eléctrico per cápita: 740228 MWh, Superficie en km²: 89651\"]\n",
        "SanLuis = [\"San Luis: Cantidad de habitantes: 489255, Consumo eléctrico per cápita: 686405 MWh, Superficie en km²: 76748\"]\n",
        "Neuquen = [\"Neuquén: Cantidad de habitantes: 680318, Consumo eléctrico per cápita: 780878 MWh, Superficie en km²: 94078\"]\n",
        "Chubut = [\"Chubut: Cantidad de habitantes: 509108, Consumo eléctrico per cápita: 627161 MWh, Superficie en km²: 224686\"]\n",
        "LaPampa = [\"La Pampa: Cantidad de habitantes: 358497, Consumo eléctrico per cápita: 395284 MWh, Superficie en km²: 143440\"]\n",
        "Formosa = [\"Formosa: Cantidad de habitantes :605193, Consumo eléctrico per cápita: 1031619 MWh, Superficie en km² :72066\"]\n",
        "Catamarca =  [\"Catamarca: Cantidad de habitantes: 406073, Consumo eléctrico per cápita: 643745 MWh, Superficie en km²: 102602\"]\n",
        "Corrientes = [\"Corrientes: Cantidad de habitantes: 346334, Consumo eléctrico per cápita: 1761100 MWh, Superficie en km²: 88199\"]\n",
        "SantaCruz = [\"Santa Cruz: Cantidad de habitantes: 273964, Consumo eléctrico per cápita: 320841 MWh, Superficie en km²: 243943\"]\n",
        "SantiagoEstero = [\"Santiago del Estero: Cantidad de habitantes: 874006, Consumo eléctrico per cápita: 1179604 MWh, Superficie en km²: 136351\"]\n",
        "TDF = [\"Tierra del Fuego: Cantidad de habitantes: 127205, Consumo eléctrico per cápita: 1179604 MWh, Superficie en km²: 1002445\"]\n",
        "Jujuy = [\"Jujuy: Cantidad de habitantes: 673307, Consumo eléctrico per cápita: 565152 MWh, Superficie en km²: 53219\"]\n",
        "RioNegro = [\"Río Negro: Cantidad de habitantes: 747610, Consumo eléctrico per cápita: 782821 MWh, Superficie en km²: 203013\"]\n",
        "\n",
        "provincias = [BuenosAires, CiudadAutonoma, Catamarca, Chaco, Chubut, Cordoba,\n",
        "              Corrientes, EntreRios, Formosa, Jujuy, LaPampa, LaRioja, Mendoza,\n",
        "              Misiones, Neuquen, RioNegro, Salta, SanJuan, SanLuis, SantaCruz,\n",
        "              SantaFe, SantiagoEstero, TDF, Tucuman]\n",
        "\n",
        "for a in range(24):\n",
        "  provincia = print(\"datos de la provincia: \",provincias[a])"
      ],
      "metadata": {
        "id": "PoHI3Wvfu8U4"
      },
      "execution_count": null,
      "outputs": []
    },
    {
      "cell_type": "markdown",
      "source": [
        "**EJERCICIO 10 LISTA**\n",
        "\n",
        "Crear una lista con información de estudianes de un colegio donde incluya los siguientes items:\n",
        "\n",
        "\n",
        "*   curso y división del aula del alumno\n",
        "*   nombre y apellidos\n",
        "*   DNI\n",
        "*   cantidad de notas en el primer trimestre\n",
        "*   INGRESAR CADA UNA DE ESAS NOTAS, POR EL USUARIO\n",
        "*   promedio del trimestre\n",
        "\n",
        "Mostrar todos los nombres y apellidos de los  alumnos\n",
        "Mostrar los alumnos con promedio mayor o igual a 6\n",
        "\n",
        "\n"
      ],
      "metadata": {
        "id": "SVaFh43fTwt3"
      }
    },
    {
      "cell_type": "code",
      "source": [
        "estudiantes = []\n",
        "cantEstudiantes = int(input(\"Ingrese la cantidad de estudiantes: \"))\n",
        "\n",
        "for i in range(cantEstudiantes):\n",
        "\n",
        "    curso = input(\"Ingrese el curso y la division del estudiante: \")\n",
        "    nombre = input(\"Ingrese el nombre y apellido del estudiante: \")\n",
        "    dni = input(\"Ingrese el DNI del estudiante: \")\n",
        "\n",
        "    cantNotas = int(input(\"Ingrese la cantidad de notas del primer trimestre: \"))\n",
        "\n",
        "    notas = []\n",
        "    for i in range(cantNotas):\n",
        "        nota = int(input(\"Ingrese la nota \"+ str((i+1)) + \": \"))\n",
        "        notas.append(nota)\n",
        "    promedio = sum(notas) / cantNotas\n",
        "\n",
        "    estudiante = {\n",
        "        'curso': curso,\n",
        "        'nombre': nombre,\n",
        "        'dni': dni,\n",
        "        'notas': notas,\n",
        "        'promedio': promedio\n",
        "    }\n",
        "\n",
        "    estudiantes.append(estudiante)\n",
        "\n",
        "print(\"Nombres y apellidos de los estudiantes:\")\n",
        "for estudiante in estudiantes:\n",
        "    print(estudiante['nombre'])\n",
        "\n",
        "print(\"Estudiantes con promedio mayor o igual a 6:\")\n",
        "for estudiante in estudiantes:\n",
        "    if estudiante['promedio'] >= 6:\n",
        "        print(estudiante['nombre'])"
      ],
      "metadata": {
        "id": "UydE5a7vAePs"
      },
      "execution_count": null,
      "outputs": []
    }
  ]
}