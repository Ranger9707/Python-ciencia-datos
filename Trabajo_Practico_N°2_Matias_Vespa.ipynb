{
  "cells": [
    {
      "cell_type": "markdown",
      "metadata": {
        "id": "view-in-github",
        "colab_type": "text"
      },
      "source": [
        "<a href=\"https://colab.research.google.com/github/Ranger9707/Python-ciencia-datos/blob/main/Trabajo_Practico_N%C2%B02_Matias_Vespa.ipynb\" target=\"_parent\"><img src=\"https://colab.research.google.com/assets/colab-badge.svg\" alt=\"Open In Colab\"/></a>"
      ]
    },
    {
      "cell_type": "markdown",
      "metadata": {
        "id": "1qK5hGNp-o6o"
      },
      "source": [
        "# Introducción a NumPy\n",
        "\n",
        "\n",
        "\n",
        "\n",
        "Este Práctico proporciona una introducción básica a NumPy, destacando algunas de sus características clave y mostrando ejemplos de su uso. A continuación tendrán un resúmen de algunos comando y su implementación. Esto servirá de guia para desarrollar las actividades propuestas a continuación."
      ],
      "id": "1qK5hGNp-o6o"
    },
    {
      "cell_type": "markdown",
      "metadata": {
        "id": "EhfjWsse-o6r"
      },
      "source": [
        "## Comparación entre uso de vectores de Python y NumPy\n",
        "A continuación se presentan varios aspectos para poder comparar la implementación de vectores a través del tipo de datos LISTA , comparado con la implementación de vectores con NumPy:"
      ],
      "id": "EhfjWsse-o6r"
    },
    {
      "cell_type": "markdown",
      "metadata": {
        "id": "c294f2JK-o6s"
      },
      "source": [
        "#### 1- Creación de vectores\n",
        "\n",
        "En esta celda, se importa la biblioteca NumPy y se **CREA UN VECTOR** utilizando Python puro y NumPy. Luego, se imprime cada uno de los vectores."
      ],
      "id": "c294f2JK-o6s"
    },
    {
      "cell_type": "code",
      "execution_count": 3,
      "metadata": {
        "id": "_HV2dLLF-o6s",
        "colab": {
          "base_uri": "https://localhost:8080/"
        },
        "outputId": "9351b947-9a4f-4b92-8c64-36cb3a1e579d"
      },
      "outputs": [
        {
          "output_type": "stream",
          "name": "stdout",
          "text": [
            "Vector en Python puro: [1, 2, 3, 4, 5]\n",
            "Vector en NumPy: [1.  2.  3.5 4.  5. ]\n"
          ]
        }
      ],
      "source": [
        "import numpy as np\n",
        "vector_py = [1, 2, 3, 4, 5]\n",
        "vector_np = np.array([1, 2, 3.5, 4, 5])\n",
        "print(\"Vector en Python puro:\", vector_py)\n",
        "print(\"Vector en NumPy:\", vector_np)"
      ],
      "id": "_HV2dLLF-o6s"
    },
    {
      "cell_type": "markdown",
      "metadata": {
        "id": "dMFB7By3-o6t"
      },
      "source": [
        "#### 2- Operaciones matemáticas\n",
        "En esta celda, se realizan operaciones matemáticas en un vector utilizando Python puro y NumPy. Luego, se imprime el resultado de cada operación."
      ],
      "id": "dMFB7By3-o6t"
    },
    {
      "cell_type": "code",
      "execution_count": 4,
      "metadata": {
        "colab": {
          "base_uri": "https://localhost:8080/"
        },
        "id": "fu-4G2Ut-o6t",
        "outputId": "5f79632b-cbf6-44af-b418-02071f2d61ac"
      },
      "outputs": [
        {
          "output_type": "execute_result",
          "data": {
            "text/plain": [
              "[1, 2, 3, 4, 5, 1, 2, 3, 4, 5]"
            ]
          },
          "metadata": {},
          "execution_count": 4
        }
      ],
      "source": [
        "vector_py = [1, 2, 3, 4, 5]\n",
        "vector_np = np.array([1, 2, 3, 4, 5])\n",
        "suma_py = [x + 2 for x in vector_py]\n",
        "suma_np = vector_np *2\n",
        "#print(\"Suma en Python puro:\", suma_py)\n",
        "#print(\"Suma en NumPy:\", suma_np)\n",
        "vector_py*2"
      ],
      "id": "fu-4G2Ut-o6t"
    },
    {
      "cell_type": "markdown",
      "metadata": {
        "id": "zNYiFFjG-o6u"
      },
      "source": [
        "#### 3- Indexado y segmentación\n",
        "En esta celda, se realiza el indexado y segmentación en un vector utilizando Python puro y NumPy. Luego, se imprime el resultado de cada operación."
      ],
      "id": "zNYiFFjG-o6u"
    },
    {
      "cell_type": "code",
      "execution_count": 5,
      "metadata": {
        "colab": {
          "base_uri": "https://localhost:8080/"
        },
        "id": "c-PIchEg-o6u",
        "outputId": "330836f3-922e-4edb-a4f2-3a7fbf11d08e"
      },
      "outputs": [
        {
          "output_type": "stream",
          "name": "stdout",
          "text": [
            "Segmento en Python puro: [2, 3, 4]\n",
            "Segmento en NumPy: [2 3 4]\n"
          ]
        }
      ],
      "source": [
        "vector_py = [1, 2, 3, 4, 5]\n",
        "vector_np = np.array([1, 2, 3, 4, 5])\n",
        "segmento_py = vector_py[1:4]\n",
        "segmento_np = vector_np[1:4]\n",
        "print(\"Segmento en Python puro:\", segmento_py)\n",
        "print(\"Segmento en NumPy:\", segmento_np)"
      ],
      "id": "c-PIchEg-o6u"
    },
    {
      "cell_type": "markdown",
      "metadata": {
        "id": "v5GzRhOK-o6v"
      },
      "source": [
        "## Operaciones entre vectores y funciones sobre vectores\n",
        "A continuación se presentan algunos ejemplos de operaciones básicas entre vectores utilizando NumPy:"
      ],
      "id": "v5GzRhOK-o6v"
    },
    {
      "cell_type": "markdown",
      "metadata": {
        "id": "KE93Crg_-o6v"
      },
      "source": [
        "#### Suma de vectores\n",
        "En esta celda, se crea un vector 'vector_a' y un vector 'vector_b', y se realiza la suma de ambos vectores utilizando NumPy. Luego, se imprime el resultado."
      ],
      "id": "KE93Crg_-o6v"
    },
    {
      "cell_type": "code",
      "execution_count": 7,
      "metadata": {
        "id": "rAzW3AvC-o6v",
        "colab": {
          "base_uri": "https://localhost:8080/"
        },
        "outputId": "2840e43c-b548-486a-971f-be1b2cb8d26f"
      },
      "outputs": [
        {
          "output_type": "stream",
          "name": "stdout",
          "text": [
            "Suma de vectores: [5 7 9]\n"
          ]
        }
      ],
      "source": [
        "vector_a = np.array([1, 2, 3])\n",
        "vector_b = np.array([4, 5, 6])\n",
        "suma_vector = vector_a + vector_b\n",
        "print(\"Suma de vectores:\", suma_vector)"
      ],
      "id": "rAzW3AvC-o6v"
    },
    {
      "cell_type": "markdown",
      "source": [
        "# ***EJERCICIOS PARTE 1***\n",
        "\n",
        "***EJERCICIO 1:***\n",
        "\n",
        "Dada la siguiente tabla (matriz) de datos, donde cada fila representa la cantidad que se vendio en referencia a un solo producto durante toda la semana; mientras que cada columna representa la venta total en un dia de la semana.Obtener la siguiente información detallada:\n",
        "\n",
        "\n",
        "*   Importe total de la venta por cada dia de la semana\n",
        "*   Importe total de la venta por cada producto en la semana\n",
        "*   Importe total de la venta en toda la semana\n",
        "\n"
      ],
      "metadata": {
        "id": "m8wTYxHe6TwA"
      },
      "id": "m8wTYxHe6TwA"
    },
    {
      "cell_type": "code",
      "execution_count": 20,
      "metadata": {
        "colab": {
          "base_uri": "https://localhost:8080/"
        },
        "id": "djSElJbA4fVb",
        "outputId": "e1503cf9-bbb6-48f2-dc7f-f01806955975"
      },
      "outputs": [
        {
          "output_type": "stream",
          "name": "stdout",
          "text": [
            "Matriz de ventas diarias: \n",
            "[[20 15 25 30 18 22 24]\n",
            " [12 20 14  8 15 18 16]\n",
            " [35 28 32 30 26 24 30]\n",
            " [40 38 45 42 39 41 37]]\n",
            "La suma total del lunes es: 107\n",
            "Total de ventas por día: [107 101 116 110  98 105 107]\n",
            "Total de ventas por producto: [154 103 205 282]\n",
            "Importe total de la venta en toda la semana: 744\n"
          ]
        }
      ],
      "source": [
        "import numpy as np\n",
        "\n",
        "\n",
        "# Datos de ventas diarias de 4 productos durante una semana\n",
        "\n",
        "ventas_diarias = np.array(\n",
        "    #Lun,Mar,Mie,Jue,Vie,Sab,Dom\n",
        "    [[20, 15, 25, 30, 18, 22, 24],  #Producto A\n",
        "    [12, 20, 14, 8, 15, 18, 16],    #Producto B\n",
        "    [35, 28, 32, 30, 26, 24, 30],   #Producto C\n",
        "    [40, 38, 45, 42, 39, 41, 37]    #Producto D\n",
        "    ]\n",
        ")\n",
        "\n",
        "print(\"Matriz de ventas diarias: \")\n",
        "print(ventas_diarias)\n",
        "\n",
        "#FORMAS DE RECORRER UNA MATRIZ FIJADA LA COLUMNA J=1\n",
        "#Calcula la suma total del dia lunes\n",
        "suma=0\n",
        "for i in range(4):\n",
        "\n",
        "  suma=suma+ventas_diarias[i,0]\n",
        "print('La suma total del lunes es:', suma)\n",
        "\n",
        "#IMPLEMENTACIÓN DE UN MÉTODO DE NUMPY\n",
        "# Sumar las ventas por día (sumar las columnas)\n",
        "ventas_por_dia = np.sum(ventas_diarias, axis=0)\n",
        "print(\"Total de ventas por día:\",ventas_por_dia)\n",
        "\n",
        "# Sumar las ventas por producto (sumar las filas)\n",
        "ventas_por_producto = np.sum(ventas_diarias, axis=1)\n",
        "print(\"Total de ventas por producto:\", ventas_por_producto)\n",
        "\n",
        "# Calcular el importe total de la venta en toda la semana\n",
        "importe_total_semana = np.sum(ventas_diarias)\n",
        "print(\"Importe total de la venta en toda la semana:\", importe_total_semana)\n"
      ],
      "id": "djSElJbA4fVb"
    },
    {
      "cell_type": "markdown",
      "source": [
        "**EJERCICIO 2:**\n",
        "\n",
        "Crear un programa donde se le pida al usuario que ingrese la cantidad de elementos de una lista de números reales positivos. Luego Convertir esa lista en un vector de Numpy.\n",
        "\n"
      ],
      "metadata": {
        "id": "CqUA_dCI6FCc"
      },
      "id": "CqUA_dCI6FCc"
    },
    {
      "cell_type": "code",
      "source": [
        "import numpy as np\n",
        "\n",
        "# Solicito al usuario que ingrese la cantidad de elementos\n",
        "cantidad_elementos = int(input(\"Ingrese la cantidad de elementos: \"))\n",
        "\n",
        "# Creo una lista que almacena los números ingresados por el usuario\n",
        "lista_numeros = []\n",
        "\n",
        "# Solicito al usuario ingresar los números reales positivos\n",
        "for i in range(cantidad_elementos):\n",
        "    numero = float(input(f\"Ingrese el número {i + 1}: \"))\n",
        "    lista_numeros.append(numero)\n",
        "\n",
        "# Convierto la lista en un vector de NumPy\n",
        "vector_numeros = np.array(lista_numeros)\n",
        "\n",
        "print(\"Vector de números ingresados:\", vector_numeros)"
      ],
      "metadata": {
        "colab": {
          "base_uri": "https://localhost:8080/"
        },
        "id": "V8m8UlNtOGPU",
        "outputId": "b98e8bc9-62d7-48fd-e05c-2277b73dfa56"
      },
      "id": "V8m8UlNtOGPU",
      "execution_count": 22,
      "outputs": [
        {
          "output_type": "stream",
          "name": "stdout",
          "text": [
            "Ingrese la cantidad de elementos: 10\n",
            "Ingrese el número 1: 105\n",
            "Ingrese el número 2: 222\n",
            "Ingrese el número 3: 10\n",
            "Ingrese el número 4: 35\n",
            "Ingrese el número 5: 90\n",
            "Ingrese el número 6: 572\n",
            "Ingrese el número 7: 17\n",
            "Ingrese el número 8: 20\n",
            "Ingrese el número 9: 33\n",
            "Ingrese el número 10: 142\n",
            "Vector de números ingresados: [105. 222.  10.  35.  90. 572.  17.  20.  33. 142.]\n"
          ]
        }
      ]
    },
    {
      "cell_type": "markdown",
      "source": [
        "\n",
        "**Ejercicio 3:**\n",
        "\n",
        "Crear un programa donde el usuario ingrese la cantidad de filas y columnas que tendra una tabla de datos. Luego el programa pedira ingresar los datos de la tabla fila por fila. Todos los datos serán numéricos.\n",
        "\n",
        "Mostrar la tabla ingresada en formato LISTA de Python, y mostrar la misma tabla en formato array de Numpy.\n",
        "\n",
        "Solicitar al usuario que ingrese las posiciones de dos filas y realice la suma  de las mismas. Mostrar este vector resultado."
      ],
      "metadata": {
        "id": "ExpBJWL591Yx"
      },
      "id": "ExpBJWL591Yx"
    },
    {
      "cell_type": "code",
      "source": [
        "import numpy as np\n",
        "\n",
        "# Solicito al usuario la cantidad de filas y columnas\n",
        "filas = int(input(\"Ingrese la cantidad de filas: \"))\n",
        "columnas = int(input(\"Ingrese la cantidad de columnas: \"))\n",
        "\n",
        "# Crear una lista para almacenar los datos de la tabla\n",
        "tabla_lista = []\n",
        "\n",
        "# Solicitar al usuario ingresar los datos de la tabla\n",
        "for i in range(filas):\n",
        "    fila = []\n",
        "    for j in range(columnas):\n",
        "        dato = float(input(f\"Ingrese el dato de la fila {i + 1}, columna {j + 1}: \"))\n",
        "        fila.append(dato)\n",
        "    tabla_lista.append(fila)\n",
        "\n",
        "# Convertir la lista en un array de NumPy\n",
        "tabla_numpy = np.array(tabla_lista)\n",
        "\n",
        "print(\"Tabla ingresada en formato de lista:\")\n",
        "for fila in tabla_lista:\n",
        "    print(fila)\n",
        "\n",
        "print(\"Tabla ingresada en formato de array:\")\n",
        "print(tabla_numpy)\n",
        "\n",
        "# Solicitar al usuario ingresar las posiciones de dos filas para sumar\n",
        "fila1 = int(input(\"Ingrese la posición de la primera fila a sumar: \"))\n",
        "fila2 = int(input(\"Ingrese la posición de la segunda fila a sumar: \"))\n",
        "\n",
        "# Realizar la suma de las filas seleccionadas\n",
        "fila_resultado = tabla_numpy[fila1] + tabla_numpy[fila2]\n",
        "\n",
        "print(\"Resultado de la suma de las filas:\")\n",
        "print(fila_resultado)"
      ],
      "metadata": {
        "colab": {
          "base_uri": "https://localhost:8080/"
        },
        "id": "7wEcXQh6PGJt",
        "outputId": "0be59fbc-8e67-4aca-b272-93ed44601b27"
      },
      "id": "7wEcXQh6PGJt",
      "execution_count": 29,
      "outputs": [
        {
          "output_type": "stream",
          "name": "stdout",
          "text": [
            "Ingrese la cantidad de filas: 3\n",
            "Ingrese la cantidad de columnas: 3\n",
            "Ingrese el dato de la fila 1, columna 1: 1\n",
            "Ingrese el dato de la fila 1, columna 2: 2\n",
            "Ingrese el dato de la fila 1, columna 3: 3\n",
            "Ingrese el dato de la fila 2, columna 1: 10\n",
            "Ingrese el dato de la fila 2, columna 2: 20\n",
            "Ingrese el dato de la fila 2, columna 3: 30\n",
            "Ingrese el dato de la fila 3, columna 1: 100\n",
            "Ingrese el dato de la fila 3, columna 2: 200\n",
            "Ingrese el dato de la fila 3, columna 3: 300\n",
            "Tabla ingresada en formato de lista:\n",
            "[1.0, 2.0, 3.0]\n",
            "[10.0, 20.0, 30.0]\n",
            "[100.0, 200.0, 300.0]\n",
            "Tabla ingresada en formato de array:\n",
            "[[  1.   2.   3.]\n",
            " [ 10.  20.  30.]\n",
            " [100. 200. 300.]]\n",
            "Ingrese la posición de la primera fila a sumar: 0\n",
            "Ingrese la posición de la segunda fila a sumar: 2\n",
            "Resultado de la suma de las filas:\n",
            "[101. 202. 303.]\n"
          ]
        }
      ]
    },
    {
      "cell_type": "markdown",
      "source": [
        "\n",
        "**Ejercicio 4:**\n",
        "\n",
        "\n",
        "A continuación se muestran los valores de  los siguientes productos:\n",
        "\n",
        "['arroz', 'harina','fideo','yerba','azucar']=[145.6 , 100 , 89.90 , 700 , 95]\n",
        "\n",
        "Los valores de estos productos son aproximados de hace dos meses, debido a la inflación y alza de los precios, se vieron afectados de la siguiente manera:\n",
        "*   Producto arroz , harina, azucar duplicaron su precio\n",
        "*   Productos restantes incrementaron en un 75% su precio\n",
        "\n",
        "Mostrar los datos en forma de vector y actualizar sus precios, de manera que se pueda comparar ambos vectores."
      ],
      "metadata": {
        "id": "zOCJT7aV9vZC"
      },
      "id": "zOCJT7aV9vZC"
    },
    {
      "cell_type": "code",
      "source": [
        "import numpy as np\n",
        "\n",
        "# Productos\n",
        "prod = ['Arroz', 'Harina', 'Fideo', 'Yerba', 'Azucar']\n",
        "\n",
        "# Precios desactualizados\n",
        "val_in = np.array([145.6, 100, 89.90, 700, 95])\n",
        "\n",
        "# Actualizacion precios\n",
        "val_act = np.copy(val_in)\n",
        "val_act[0] *= 2  # arroz\n",
        "val_act[1] *= 2  # harina\n",
        "val_act[2:] *= 1.75  # resto\n",
        "\n",
        "# Mostrar los valores iniciales y actualizados\n",
        "print(\"Valores iniciales de los productos:\")\n",
        "for producto, valor in zip(prod, val_in):\n",
        "    print(f\"{producto}: {valor}\")\n",
        "print(                          )\n",
        "print(\"Valores actualizados de los productos:\")\n",
        "for producto, valor in zip(prod, val_act):\n",
        "    print(f\"{producto}: {valor}\")"
      ],
      "metadata": {
        "colab": {
          "base_uri": "https://localhost:8080/"
        },
        "id": "aWmrxGZRQ7v0",
        "outputId": "0f3bc8b6-3968-4d39-87c6-bc7d01e1101f"
      },
      "id": "aWmrxGZRQ7v0",
      "execution_count": 67,
      "outputs": [
        {
          "output_type": "stream",
          "name": "stdout",
          "text": [
            "Valores iniciales de los productos:\n",
            "Arroz: 145.6\n",
            "Harina: 100.0\n",
            "Fideo: 89.9\n",
            "Yerba: 700.0\n",
            "Azucar: 95.0\n",
            "\n",
            "Valores actualizados de los productos:\n",
            "Arroz: 291.2\n",
            "Harina: 200.0\n",
            "Fideo: 157.32500000000002\n",
            "Yerba: 1225.0\n",
            "Azucar: 166.25\n"
          ]
        }
      ]
    },
    {
      "cell_type": "markdown",
      "source": [
        "***EJERCICIO 5***\n",
        "\n",
        "Completar la siguiente tabla de comandos y funciones que se utilizarán sobre vectores definidos a través de Numpy\n",
        "\n",
        "|    | Comando | operación y funcionalidad |resultado | ejemplo |\n",
        "|---|    ---   |               ---         |    ---   |    ---  |\n",
        "1   | np.array([lista])|     crea un vector o table con Numpy  |  matriz   |np.array([1.6, 2, 0, 6.75])\n",
        "2   |np.sqrt(vector)|       calcula la raiz cuadrada   |  vector con raíces cuadradas |  np.sqrt(vector_np)\n",
        "3   |np.random.rand(n)|     genera un vector de números aleatorios   |  Vector de números aleatorios | np.random.rand(5)\n",
        "4   |np.ones((n))|          Crea un vector de unos   |  Vector NumPy de unos | np.ones((3))\n",
        "5   |np.zeros((n))|         Crea un vector de ceros   |  Vector NumPy de ceros | np.zeros((3))\n",
        "6   | np.min(array)|        Calcula el valor mínimo   |valor mínimo| np.min(vector_np)\n",
        "7   | np.max(array)|        Calcula el valor mínimo   |valor máximo| np.max(vector_np)\n",
        "8   | np.where(CONDICIÓN SOBRE EL VECTOR)| Encuentra índices que cumplen la condición |Tupla de índices donde se cumple la condición|np.where(vector_np>1)\n",
        "9   |np.random.shuffle(MATRIZ)|   Mezcla los elementos de una matriz  | Matriz con elementos mezclados | vector.shape[0], matriz.shape[1]\n",
        "10  |array.shape[n], n=0,1 |   Devuelve la forma del array o matriz   | Enteros que indican la forma | vector.shape[0], matriz.shape[1]\n",
        "11  |np.sum(array, axis=n), n=0,1|  Calcula la suma de elemento| Suma de elementos en el eje especificado |np.sum(matriz, axis=0)\n",
        "12  |np.arange(a, b, p)|  Genera un rango de valores  | Vector con valores en el rango especificado |np.arange(0, 10, 0.1) VER EJERCICIOS PARTE 3\n",
        "\n",
        "\n"
      ],
      "metadata": {
        "id": "zNFELZiHwE4O"
      },
      "id": "zNFELZiHwE4O"
    },
    {
      "cell_type": "markdown",
      "metadata": {
        "id": "eXzkUDjx-o6u"
      },
      "source": [
        "#  Funciones matemáticas sobre vectores\n",
        "En esta sección, se aplican funciones matemáticas a un vector utilizando Python puro y NumPy. Luego, se imprime el resultado de cada función.\n",
        "\n",
        "**ACLARACIÓN:** Estas funciones utilizan funciones y operaciones elementales matemáticas, sobre cada una de las posiciones del vector. Pero en general, se pueden definir funciones matemáticas que relacionan diferentes posiciones de un vector."
      ],
      "id": "eXzkUDjx-o6u"
    },
    {
      "cell_type": "code",
      "execution_count": 32,
      "metadata": {
        "id": "t12Cq_uD-o6u",
        "colab": {
          "base_uri": "https://localhost:8080/"
        },
        "outputId": "92b5eb13-c440-40ca-8517-8ae7fe1fb03c"
      },
      "outputs": [
        {
          "output_type": "stream",
          "name": "stdout",
          "text": [
            "Raíz cuadrada en Python puro: [1.0, 1.4142135623730951, 1.7320508075688772, 2.0, 2.23606797749979]\n",
            "Raíz cuadrada en NumPy: [1.         1.41421356 1.73205081 2.         2.23606798]\n",
            "Vector al cuadrado en Python:  [1, 4, 9, 16, 25]\n",
            "logaritmo de un Vector en Python:  [0.0, 0.6931471805599453, 1.0986122886681098, 1.3862943611198906, 1.6094379124341003]\n",
            "logaritmo de un Vector en Numpy:  [0.         0.69314718 1.09861229 1.38629436 1.60943791]\n"
          ]
        }
      ],
      "source": [
        "import math\n",
        "vector_py = [1, 2, 3, 4, 5]\n",
        "vector_np = np.array([1, 2, 3, 4, 5])\n",
        "raiz_cuadrada_py = [math.sqrt(x) for x in vector_py]\n",
        "vector_cuad=[(x**2) for x in vector_np]\n",
        "vector_log=[math.log(x) for x in vector_np]\n",
        "raiz_cuadrada_np = np.sqrt(vector_np)\n",
        "vector_npLog=np.log(vector_np)\n",
        "print(\"Raíz cuadrada en Python puro:\", raiz_cuadrada_py)\n",
        "print(\"Raíz cuadrada en NumPy:\", raiz_cuadrada_np)\n",
        "print('Vector al cuadrado en Python: ',vector_cuad)\n",
        "print('logaritmo de un Vector en Python: ',vector_log)\n",
        "print('logaritmo de un Vector en Numpy: ',vector_npLog)"
      ],
      "id": "t12Cq_uD-o6u"
    },
    {
      "cell_type": "markdown",
      "metadata": {
        "id": "bry8WTMN-o6v"
      },
      "source": [
        "####  Rendimiento\n",
        "En esta celda, se mide el rendimiento de operaciones en un vector utilizando Python puro y NumPy. Se imprime el tiempo de ejecución de cada operación."
      ],
      "id": "bry8WTMN-o6v"
    },
    {
      "cell_type": "code",
      "execution_count": 33,
      "metadata": {
        "colab": {
          "base_uri": "https://localhost:8080/"
        },
        "id": "JabuzFhf-o6v",
        "outputId": "c25f5f52-ad3a-436c-86c8-8a13cffdd369"
      },
      "outputs": [
        {
          "output_type": "stream",
          "name": "stdout",
          "text": [
            "Tiempo en Python puro: 0.0868525505065918 segundos\n",
            "Tiempo en NumPy: 3.814697265625e-05 segundos\n"
          ]
        }
      ],
      "source": [
        "import time\n",
        "vector_py = [i for i in range(1000000)]\n",
        "vector_np = np.arange(1000000)\n",
        "\n",
        "start_time = time.time()\n",
        "[x * 2 for x in vector_py]\n",
        "end_time = time.time()\n",
        "print(\"Tiempo en Python puro:\", end_time - start_time, \"segundos\")\n",
        "\n",
        "start_time = time.time()\n",
        "end_time = time.time()\n",
        "print(\"Tiempo en NumPy:\", end_time - start_time, \"segundos\")"
      ],
      "id": "JabuzFhf-o6v"
    },
    {
      "cell_type": "markdown",
      "metadata": {
        "id": "iqiM6a2i-o6x"
      },
      "source": [
        "## Redimensionar un NumPy\n",
        "A continuación se presentan dos ejemplos de redimensionamiento de un NumPy:"
      ],
      "id": "iqiM6a2i-o6x"
    },
    {
      "cell_type": "markdown",
      "metadata": {
        "id": "fkDQpzMo-o6x"
      },
      "source": [
        "#### Redimensionamiento 1\n",
        "En esta celda, se crea un NumPy 'array' y se utiliza la función reshape() de NumPy para redimensionarlo a una forma diferente. Luego, se imprime el nuevo array."
      ],
      "id": "fkDQpzMo-o6x"
    },
    {
      "cell_type": "code",
      "execution_count": 34,
      "metadata": {
        "colab": {
          "base_uri": "https://localhost:8080/"
        },
        "id": "zg5ygnQ6-o6x",
        "outputId": "35763126-bdd4-452a-d4d4-a856fca17733"
      },
      "outputs": [
        {
          "output_type": "stream",
          "name": "stdout",
          "text": [
            "Nuevo array redimensionado: [[1 2 3]\n",
            " [4 5 6]]\n"
          ]
        }
      ],
      "source": [
        "array = np.array([1, 2, 3, 4, 5, 6])\n",
        "nuevo_array = array.reshape((2, 3))\n",
        "print(\"Nuevo array redimensionado:\", nuevo_array)"
      ],
      "id": "zg5ygnQ6-o6x"
    },
    {
      "cell_type": "markdown",
      "metadata": {
        "id": "2xfwP-s5-o6x"
      },
      "source": [
        "#### Redimensionamiento 2\n",
        "En esta celda, se crea un NumPy 'array' y se utiliza la función np.resize() de NumPy para redimensionarlo a una forma diferente. Luego, se imprime el nuevo array."
      ],
      "id": "2xfwP-s5-o6x"
    },
    {
      "cell_type": "code",
      "execution_count": 35,
      "metadata": {
        "colab": {
          "base_uri": "https://localhost:8080/"
        },
        "id": "cNbF-5i3-o6x",
        "outputId": "a79f8d08-ba50-49b7-ec2d-5f76e1b74428"
      },
      "outputs": [
        {
          "output_type": "stream",
          "name": "stdout",
          "text": [
            "Nuevo array redimensionado: [[1 2 3]\n",
            " [4 5 6]\n",
            " [1 2 3]]\n"
          ]
        }
      ],
      "source": [
        "array = np.array([1, 2, 3, 4, 5, 6])\n",
        "nuevo_array = np.resize(array, (3, 3))\n",
        "print(\"Nuevo array redimensionado:\", nuevo_array)"
      ],
      "id": "cNbF-5i3-o6x"
    },
    {
      "cell_type": "markdown",
      "source": [
        "# ***EJERCICIOS PARTE 2***\n",
        "\n",
        "**Ejercicio 1:**\n",
        "\n",
        "Dado una matriz de datos, dividir el 70% de filas en un array_entrenamiento y el otro 30% en otro array_testeo. Esta distribución de filas de la matriz inicial, debe ser aleatoria. Mostrar las matrices al ser modificadas por el comando np.random.shuffle('matriz'). Finalmente mostrar los array_entrenamiento y array_testeo."
      ],
      "metadata": {
        "id": "2hHxd6eg6w1u"
      },
      "id": "2hHxd6eg6w1u"
    },
    {
      "cell_type": "code",
      "source": [
        "dataset = np.array([[25, 1, 7, 100, 1],\n",
        "                    [30, 2, 5, 120, 0],\n",
        "                    [22, 1, 6, 80, 1],\n",
        "                    [28, 1, 6, 90, 0],\n",
        "                    [35, 2, 4, 130, 1],\n",
        "                    [32, 2, 6, 110, 1],\n",
        "                    [26, 1, 8, 95, 1],\n",
        "                    [24, 1, 5, 85, 0],\n",
        "                    [29, 2, 7, 115, 1],\n",
        "                    [31, 2, 6, 105, 0]])\n",
        "\n",
        "# Mezclar las filas de la matriz para obtener una distribución aleatoria de los datos\n",
        "np.random.shuffle(dataset)\n",
        "print(\"Matriz de datos: \")\n",
        "print(dataset)\n",
        "print(\"      \")\n",
        "\n",
        "# divido en conjunto de entrenamiento y conjunto de prueba\n",
        "filas_entrenamiento = int(0.7 * dataset.shape[0])\n",
        "array_entrenamiento = dataset[:filas_entrenamiento]\n",
        "array_testeo = dataset[filas_entrenamiento:]\n",
        "\n",
        "print(\"Conjunto de Entrenamiento:\")\n",
        "print(array_entrenamiento)\n",
        "print(\"      \")\n",
        "\n",
        "print(\"Conjunto de Testeo:\")\n",
        "print(array_testeo)\n"
      ],
      "metadata": {
        "colab": {
          "base_uri": "https://localhost:8080/"
        },
        "id": "pzZwS3lF6M-6",
        "outputId": "fbfc4f5f-1f99-4408-a1f9-1452898a1398"
      },
      "execution_count": 66,
      "outputs": [
        {
          "output_type": "stream",
          "name": "stdout",
          "text": [
            "Matriz de datos: \n",
            "[[ 24   1   5  85   0]\n",
            " [ 22   1   6  80   1]\n",
            " [ 35   2   4 130   1]\n",
            " [ 32   2   6 110   1]\n",
            " [ 30   2   5 120   0]\n",
            " [ 25   1   7 100   1]\n",
            " [ 31   2   6 105   0]\n",
            " [ 29   2   7 115   1]\n",
            " [ 28   1   6  90   0]\n",
            " [ 26   1   8  95   1]]\n",
            "      \n",
            "Conjunto de Entrenamiento:\n",
            "[[ 24   1   5  85   0]\n",
            " [ 22   1   6  80   1]\n",
            " [ 35   2   4 130   1]\n",
            " [ 32   2   6 110   1]\n",
            " [ 30   2   5 120   0]\n",
            " [ 25   1   7 100   1]\n",
            " [ 31   2   6 105   0]]\n",
            "      \n",
            "Conjunto de Testeo:\n",
            "[[ 29   2   7 115   1]\n",
            " [ 28   1   6  90   0]\n",
            " [ 26   1   8  95   1]]\n"
          ]
        }
      ],
      "id": "pzZwS3lF6M-6"
    },
    {
      "cell_type": "markdown",
      "source": [
        "**Ejercicio 2:**\n",
        "\n",
        "Dado la siguiente tabla de datos poblaciones de las Provincias de Argentina (Ejercicio 10 del Práctico 1), Realizar el siguiente analisis.\n",
        "\n",
        "\n",
        "\n",
        "*   indicar la cantidad de filas y columnas que posee la tabla de datos.\n",
        "*   Mostrar toda la información de la provincia con Mayor Cantidad de habitantes. AYUDA: usar la función np.max(array)\n",
        "*   Agregar a la tabla de datos una fila al final , indicando los totales de cada columna. Mostrar el resultado de la nueva tabla.\n",
        "\n"
      ],
      "metadata": {
        "id": "9WqSL4cG7LhH"
      },
      "id": "9WqSL4cG7LhH"
    },
    {
      "cell_type": "code",
      "source": [
        "poblacionArgentina1=[['PROVINCIA','CANTIDAD DE HABITANTES','CONSUMO EN MWH','SUPERFICIE EN KM^2'],\n",
        "    ['Buenos Aires','17.569.053',' 16543722',' 305907'],\n",
        "    ['Córdoba','3.978.984',' 10606601','164708'],\n",
        "    ['Santa Fe','3.556.522',' 13078203',' 133249'],\n",
        "    ['Ciudad Autónoma de Buenos Aires','3.120.612','51712507',' 201'],\n",
        "    ['Mendoza','2.014.533',' 5652519',' 149069'],\n",
        "    ['Tucumán','1.703.186','3208711','22.524'],\n",
        "    ['Salta','1.440.672',' 2214796',' 155341'],\n",
        "    ['Entre Ríos','1.426.426','3906353','78384'],\n",
        "    ['Misiones','1.280.960','2845762',' 29911'],\n",
        "    ['Corrientes','1.197.553','2997612',' 89123'],\n",
        "    ['Chaco','1.142.963','3045380',' 99763'],\n",
        "    ['Santiago del Estero','1.054.028',' 1811277',' 136934'],\n",
        "    ['San Juan','818.234',' 2381940',' 88296'],\n",
        "   ['Jujuy','797.955',' 1136336',' 53244'],\n",
        "   ['Río Negro','762.067',' 1984782','202169'],\n",
        "   ['Neuquén','726.590','1834879',' 94422'],\n",
        "   ['Formosa','606.041',' 1388311','75488'],\n",
        "   ['Chubut','603.120','1646029',' 224302'],\n",
        "   ['San Luis','540.905',' 1780881','75347'],\n",
        "   ['Catamarca','429.556',' 1337032','101486'],\n",
        "   ['La Rioja','384.607','1572290',' 91494'],\n",
        "   ['La Pampa','366.022','915781',' 143493'],\n",
        "   ['Santa Cruz','333.473',' 1025648',' 244458'],\n",
        "   ['Tierra del Fuego, Antártida e Islas del Atlántico Sur','190.641',' s/d ',' 37131']]\n",
        "\n",
        "poblacionArgentina = np.array(poblacionArgentina1)\n",
        "\n",
        "print(poblacionArgentina)\n",
        "print(\"                \")\n",
        "\n",
        "#cantidad de filas\n",
        "cantidad_filas = len(poblacionArgentina1)\n",
        "\n",
        "#cantidad de columnas\n",
        "cantidad_columnas = len(poblacionArgentina1[0])\n",
        "\n",
        "print(\"Cantidad de filas:\", cantidad_filas)\n",
        "print(\"Cantidad de columnas:\", cantidad_columnas)\n",
        "print(\"                                        \")\n",
        "\n",
        "#funcion para convertir valores a enteros\n",
        "def convert_to_int(value):\n",
        "    try:\n",
        "        return int(value.replace('.', '').replace('s/d', '0').replace(' ', ''))\n",
        "    except ValueError:\n",
        "        return 0\n",
        "\n",
        "#convertir valores de poblacion en enteros\n",
        "poblacion_enteros = [int(row[1].replace('.', '')) for row in poblacionArgentina1[1:]]\n",
        "\n",
        "#encuentro el índice de la provincia con la mayor poblacion\n",
        "indice_max_poblacion = np.argmax(poblacion_enteros)\n",
        "\n",
        "#muestro información completa de la provincia\n",
        "provincia_max_poblacion = poblacionArgentina1[indice_max_poblacion + 1]\n",
        "print(\"Información de la provincia con mayor población:\")\n",
        "for i, header in enumerate(poblacionArgentina1[0]):\n",
        "    print(f\"{header}: {provincia_max_poblacion[i]}\")\n",
        "\n",
        "print(\"                                           \")\n",
        "\n",
        "#calculo totales de cada columna\n",
        "total_habitantes = sum([convert_to_int(row[1]) for row in poblacionArgentina1[1:]])\n",
        "total_consumo_mwh = sum([convert_to_int(row[2]) for row in poblacionArgentina1[1:]])\n",
        "total_superficie_km2 = sum([convert_to_int(row[3]) for row in poblacionArgentina1[1:]])\n",
        "\n",
        "#fila de totales\n",
        "fila_totales = ['Totales', f'{total_habitantes:,}', f'{total_consumo_mwh:,}', f'{total_superficie_km2:,}']\n",
        "\n",
        "#agrego la fila\n",
        "poblacionArgentina1.append(fila_totales)\n",
        "\n",
        "#muestro la nueva tabla con los totales\n",
        "print(\"Nueva tabla con totales: \")\n",
        "for row in poblacionArgentina1:\n",
        "    print(row)"
      ],
      "metadata": {
        "colab": {
          "base_uri": "https://localhost:8080/"
        },
        "id": "5h1AALwz8Eqo",
        "outputId": "0156503d-bd1f-47d5-ae6a-570554f5dea3"
      },
      "id": "5h1AALwz8Eqo",
      "execution_count": 65,
      "outputs": [
        {
          "output_type": "stream",
          "name": "stdout",
          "text": [
            "[['PROVINCIA' 'CANTIDAD DE HABITANTES' 'CONSUMO EN MWH'\n",
            "  'SUPERFICIE EN KM^2']\n",
            " ['Buenos Aires' '17.569.053' ' 16543722' ' 305907']\n",
            " ['Córdoba' '3.978.984' ' 10606601' '164708']\n",
            " ['Santa Fe' '3.556.522' ' 13078203' ' 133249']\n",
            " ['Ciudad Autónoma de Buenos Aires' '3.120.612' '51712507' ' 201']\n",
            " ['Mendoza' '2.014.533' ' 5652519' ' 149069']\n",
            " ['Tucumán' '1.703.186' '3208711' '22.524']\n",
            " ['Salta' '1.440.672' ' 2214796' ' 155341']\n",
            " ['Entre Ríos' '1.426.426' '3906353' '78384']\n",
            " ['Misiones' '1.280.960' '2845762' ' 29911']\n",
            " ['Corrientes' '1.197.553' '2997612' ' 89123']\n",
            " ['Chaco' '1.142.963' '3045380' ' 99763']\n",
            " ['Santiago del Estero' '1.054.028' ' 1811277' ' 136934']\n",
            " ['San Juan' '818.234' ' 2381940' ' 88296']\n",
            " ['Jujuy' '797.955' ' 1136336' ' 53244']\n",
            " ['Río Negro' '762.067' ' 1984782' '202169']\n",
            " ['Neuquén' '726.590' '1834879' ' 94422']\n",
            " ['Formosa' '606.041' ' 1388311' '75488']\n",
            " ['Chubut' '603.120' '1646029' ' 224302']\n",
            " ['San Luis' '540.905' ' 1780881' '75347']\n",
            " ['Catamarca' '429.556' ' 1337032' '101486']\n",
            " ['La Rioja' '384.607' '1572290' ' 91494']\n",
            " ['La Pampa' '366.022' '915781' ' 143493']\n",
            " ['Santa Cruz' '333.473' ' 1025648' ' 244458']\n",
            " ['Tierra del Fuego, Antártida e Islas del Atlántico Sur' '190.641'\n",
            "  ' s/d ' ' 37131']]\n",
            "                \n",
            "Cantidad de filas: 25\n",
            "Cantidad de columnas: 4\n",
            "                                        \n",
            "Información de la provincia con mayor población:\n",
            "PROVINCIA: Buenos Aires\n",
            "CANTIDAD DE HABITANTES: 17.569.053\n",
            "CONSUMO EN MWH:  16543722\n",
            "SUPERFICIE EN KM^2:  305907\n",
            "                                           \n",
            "Nueva tabla con totales: \n",
            "['PROVINCIA', 'CANTIDAD DE HABITANTES', 'CONSUMO EN MWH', 'SUPERFICIE EN KM^2']\n",
            "['Buenos Aires', '17.569.053', ' 16543722', ' 305907']\n",
            "['Córdoba', '3.978.984', ' 10606601', '164708']\n",
            "['Santa Fe', '3.556.522', ' 13078203', ' 133249']\n",
            "['Ciudad Autónoma de Buenos Aires', '3.120.612', '51712507', ' 201']\n",
            "['Mendoza', '2.014.533', ' 5652519', ' 149069']\n",
            "['Tucumán', '1.703.186', '3208711', '22.524']\n",
            "['Salta', '1.440.672', ' 2214796', ' 155341']\n",
            "['Entre Ríos', '1.426.426', '3906353', '78384']\n",
            "['Misiones', '1.280.960', '2845762', ' 29911']\n",
            "['Corrientes', '1.197.553', '2997612', ' 89123']\n",
            "['Chaco', '1.142.963', '3045380', ' 99763']\n",
            "['Santiago del Estero', '1.054.028', ' 1811277', ' 136934']\n",
            "['San Juan', '818.234', ' 2381940', ' 88296']\n",
            "['Jujuy', '797.955', ' 1136336', ' 53244']\n",
            "['Río Negro', '762.067', ' 1984782', '202169']\n",
            "['Neuquén', '726.590', '1834879', ' 94422']\n",
            "['Formosa', '606.041', ' 1388311', '75488']\n",
            "['Chubut', '603.120', '1646029', ' 224302']\n",
            "['San Luis', '540.905', ' 1780881', '75347']\n",
            "['Catamarca', '429.556', ' 1337032', '101486']\n",
            "['La Rioja', '384.607', '1572290', ' 91494']\n",
            "['La Pampa', '366.022', '915781', ' 143493']\n",
            "['Santa Cruz', '333.473', ' 1025648', ' 244458']\n",
            "['Tierra del Fuego, Antártida e Islas del Atlántico Sur', '190.641', ' s/d ', ' 37131']\n",
            "['Totales', '46,044,703', '134,627,352', '2,796,444']\n"
          ]
        }
      ]
    },
    {
      "cell_type": "markdown",
      "metadata": {
        "id": "lQwZW6nj-o67"
      },
      "source": [
        "# Ploteo de datos con Matplotlib\n",
        "A continuación se presentan ejemplos de diferentes tipos de gráficos utilizando Matplotlib:"
      ],
      "id": "lQwZW6nj-o67"
    },
    {
      "cell_type": "markdown",
      "metadata": {
        "id": "W6xs2svw-o67"
      },
      "source": [
        "## Gráfica de funciones matemáticas elementales\n",
        "En esta celda, se crea un array 'x' con valores en el rango de 0 a 10 y se utiliza la función np.sin() y np.cos() de NumPy para calcular el seno y coseno de cada valor en 'x'. Luego, se utiliza la biblioteca Matplotlib para trazar un gráfico de línea con 'x' en el eje x y 'y' en el eje y. También se agrega etiquetas y un título al gráfico."
      ],
      "id": "W6xs2svw-o67"
    },
    {
      "cell_type": "code",
      "execution_count": 64,
      "metadata": {
        "colab": {
          "base_uri": "https://localhost:8080/",
          "height": 472
        },
        "id": "GQGdYmNN-o67",
        "outputId": "ae8f9b81-bab4-4443-dad8-a13e81a483b9"
      },
      "outputs": [
        {
          "output_type": "display_data",
          "data": {
            "text/plain": [
              "<Figure size 640x480 with 1 Axes>"
            ],
            "image/png": "[encoded data removed]"
          },
          "metadata": {}
        }
      ],
      "source": [
        "import matplotlib.pyplot as plt\n",
        "\n",
        "x = np.arange(0, 10, 0.1)\n",
        "y = np.cos(x)\n",
        "\n",
        "plt.plot(x, y)\n",
        "plt.xlabel('x')\n",
        "plt.ylabel('y')\n",
        "plt.title('Gráfico de línea')\n",
        "plt.show()"
      ],
      "id": "GQGdYmNN-o67"
    },
    {
      "cell_type": "markdown",
      "source": [
        "# ***EJERCICIOS PARTE 3***\n",
        "\n",
        "Realizar las gráficas de als siguientes expresiones matemáticas. Determinar el dominio del eje x adecuado para plotear las funciones de manera que se visualice su comportamiento.\n",
        "\n",
        "\n",
        "*  $ y= 3x -2$\n",
        "*   $y= 2x^2+4x+2 $\n",
        "*   $y= \\vert x\\vert= \\begin{cases}-x & x < 0 \\\\ x & x\\ge 0                       \\end{cases}$\n",
        "*   $y= 1/x$\n",
        "*   $y=\\sqrt x$\n",
        "\n",
        "\n"
      ],
      "metadata": {
        "id": "Q0dztL-66aVb"
      },
      "id": "Q0dztL-66aVb"
    },
    {
      "cell_type": "code",
      "source": [
        "# Grafica y=3x−2\n",
        "\n",
        "x = np.linspace(-10, 10, 400)\n",
        "y = 3*x - 2\n",
        "\n",
        "plt.plot(x, y, label=r'$y = 3x - 2$')\n",
        "plt.axhline(0, color='black', linewidth=0.8)  # Eje x\n",
        "plt.axvline(0, color='black', linewidth=0.8)  # Eje y\n",
        "plt.title('Gráfica de la función y = 3x - 2')\n",
        "plt.xlabel('x')\n",
        "plt.ylabel('y')\n",
        "plt.legend()\n",
        "plt.grid()\n",
        "plt.show()"
      ],
      "metadata": {
        "colab": {
          "base_uri": "https://localhost:8080/",
          "height": 472
        },
        "id": "_1f4HGUKcl94",
        "outputId": "b933460b-1ebd-49b6-af6f-feb38fa90f22"
      },
      "id": "_1f4HGUKcl94",
      "execution_count": 74,
      "outputs": [
        {
          "output_type": "display_data",
          "data": {
            "text/plain": [
              "<Figure size 640x480 with 1 Axes>"
            ],
            "image/png": "[encoded data removed]"
          },
          "metadata": {}
        }
      ]
    },
    {
      "cell_type": "code",
      "source": [
        "# Grafica y=2x2+4x+2\n",
        "\n",
        "\n",
        "x = np.linspace(-10, 10, 400)\n",
        "y = 2*x**2 + 4*x + 2\n",
        "\n",
        "plt.plot(x, y, label=r'$y = 2x^2 + 4x + 2$')\n",
        "plt.axhline(0, color='black', linewidth=0.8)\n",
        "plt.axvline(0, color='black', linewidth=0.8)\n",
        "plt.title('Gráfica de la función y = 2x^2 + 4x + 2')\n",
        "plt.xlabel('x')\n",
        "plt.ylabel('y')\n",
        "plt.grid()\n",
        "plt.legend()\n",
        "plt.show()"
      ],
      "metadata": {
        "colab": {
          "base_uri": "https://localhost:8080/",
          "height": 472
        },
        "id": "EKUcW5H2dGeF",
        "outputId": "3d5062b7-c739-4f01-b9da-055d3dfc1dcb"
      },
      "id": "EKUcW5H2dGeF",
      "execution_count": 75,
      "outputs": [
        {
          "output_type": "display_data",
          "data": {
            "text/plain": [
              "<Figure size 640x480 with 1 Axes>"
            ],
            "image/png": "[encoded data removed]"
          },
          "metadata": {}
        }
      ]
    },
    {
      "cell_type": "code",
      "source": [
        "x_pos = np.linspace(0, 10, 400)\n",
        "x_neg = np.linspace(-10, 0, 400)\n",
        "y_pos = x_pos\n",
        "y_neg = -x_neg\n",
        "\n",
        "plt.plot(x_pos, y_pos, label=r'$y = |x|$')\n",
        "plt.plot(x_neg, y_neg)\n",
        "plt.axhline(0, color='black', linewidth=0.8)\n",
        "plt.axvline(0, color='black', linewidth=0.8)\n",
        "plt.title('Gráfica de la función y = |x|')\n",
        "plt.xlabel('x')\n",
        "plt.ylabel('y')\n",
        "plt.grid()\n",
        "plt.legend()\n",
        "plt.show()"
      ],
      "metadata": {
        "colab": {
          "base_uri": "https://localhost:8080/",
          "height": 472
        },
        "id": "x0uNdVZydyFO",
        "outputId": "6cc89828-61d8-4f6a-dafd-e0ad13fa7316"
      },
      "id": "x0uNdVZydyFO",
      "execution_count": 79,
      "outputs": [
        {
          "output_type": "display_data",
          "data": {
            "text/plain": [
              "<Figure size 640x480 with 1 Axes>"
            ],
            "image/png": "[encoded data removed]"
          },
          "metadata": {}
        }
      ]
    },
    {
      "cell_type": "code",
      "source": [
        "x = np.linspace(-10, 10, 400)\n",
        "x = x[x != 0]\n",
        "y = 1 / x\n",
        "\n",
        "\n",
        "plt.plot(x, y, label=r'$y = \\frac{1}{x}$')\n",
        "plt.axhline(0, color='black', linewidth=0.8)\n",
        "plt.axvline(0, color='black', linewidth=0.8)\n",
        "plt.axvline(x=0, color='red', linestyle='--', label='Asíntota vertical en x = 0')\n",
        "plt.title('Gráfica de la función y = 1/x')\n",
        "plt.xlabel('x')\n",
        "plt.ylabel('y')\n",
        "plt.grid()\n",
        "plt.legend()\n",
        "plt.ylim(-10, 10)\n",
        "plt.show()"
      ],
      "metadata": {
        "colab": {
          "base_uri": "https://localhost:8080/",
          "height": 472
        },
        "id": "u-YNayMLeUB_",
        "outputId": "ad78ebd5-8570-4003-e458-4d3f677da75e"
      },
      "id": "u-YNayMLeUB_",
      "execution_count": 80,
      "outputs": [
        {
          "output_type": "display_data",
          "data": {
            "text/plain": [
              "<Figure size 640x480 with 1 Axes>"
            ],
            "image/png": "[encoded data removed]"
          },
          "metadata": {}
        }
      ]
    },
    {
      "cell_type": "code",
      "source": [
        "x = np.linspace(0, 10, 400)\n",
        "y = np.sqrt(x)\n",
        "\n",
        "plt.plot(x, y, label=r'$y = \\sqrt{x}$')\n",
        "plt.axhline(0, color='black', linewidth=0.8)  # Eje x\n",
        "plt.axvline(0, color='black', linewidth=0.8)  # Eje y\n",
        "plt.title('Gráfica de la función y = sqrt(x)')\n",
        "plt.xlabel('x')\n",
        "plt.ylabel('y')\n",
        "plt.grid()\n",
        "plt.legend()\n",
        "plt.show()"
      ],
      "metadata": {
        "colab": {
          "base_uri": "https://localhost:8080/",
          "height": 472
        },
        "id": "cw_sXsllenMK",
        "outputId": "e42482bb-0806-46fa-e8ab-93dacde4e177"
      },
      "id": "cw_sXsllenMK",
      "execution_count": 81,
      "outputs": [
        {
          "output_type": "display_data",
          "data": {
            "text/plain": [
              "<Figure size 640x480 with 1 Axes>"
            ],
            "image/png": "[encoded data removed]"
          },
          "metadata": {}
        }
      ]
    },
    {
      "cell_type": "markdown",
      "source": [
        "# **Matias Vespa**\n",
        "# **DNI 40325120**"
      ],
      "metadata": {
        "id": "I_dcbASuesa2"
      },
      "id": "I_dcbASuesa2"
    }
  ],
  "metadata": {
    "kernelspec": {
      "display_name": "Python 3",
      "language": "python",
      "name": "python3"
    },
    "language_info": {
      "codemirror_mode": {
        "name": "ipython",
        "version": 3
      },
      "file_extension": ".py",
      "mimetype": "text/x-python",
      "name": "python",
      "nbconvert_exporter": "python",
      "pygments_lexer": "ipython3",
      "version": "3.11.1"
    },
    "colab": {
      "provenance": [],
      "include_colab_link": true
    }
  },
  "nbformat": 4,
  "nbformat_minor": 5
}